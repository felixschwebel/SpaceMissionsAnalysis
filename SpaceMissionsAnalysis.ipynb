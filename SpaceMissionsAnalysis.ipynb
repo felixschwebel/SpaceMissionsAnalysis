{
 "nbformat": 4,
 "nbformat_minor": 0,
 "metadata": {
  "kernelspec": {
   "display_name": "Python 3",
   "language": "python",
   "name": "python3"
  },
  "language_info": {
   "codemirror_mode": {
    "name": "ipython",
    "version": 3
   },
   "file_extension": ".py",
   "mimetype": "text/x-python",
   "name": "python",
   "nbconvert_exporter": "python",
   "pygments_lexer": "ipython3",
   "version": "3.7.9"
  },
  "papermill": {
   "duration": 28.468597,
   "end_time": "2020-10-20T21:34:26.910951",
   "environment_variables": {},
   "exception": null,
   "input_path": "__notebook__.ipynb",
   "output_path": "__notebook__.ipynb",
   "parameters": {},
   "start_time": "2020-10-20T21:33:58.442354",
   "version": "2.1.0"
  },
  "colab": {
   "name": "Space Missions Analysis (start).ipynb",
   "provenance": []
  }
 },
 "cells": [
  {
   "cell_type": "markdown",
   "metadata": {
    "papermill": {
     "duration": 0.035434,
     "end_time": "2020-10-20T21:34:01.886225",
     "exception": false,
     "start_time": "2020-10-20T21:34:01.850791",
     "status": "completed"
    },
    "tags": [],
    "id": "AWaMmfxXa-p0"
   },
   "source": [
    "This dataset was scraped from [nextspaceflight.com](https://nextspaceflight.com/launches/past/?page=1) and includes all the space missions since the beginning of Space Race between the USA and the Soviet Union in 1957 to August 7th 2020."
   ]
  },
  {
   "cell_type": "code",
   "metadata": {
    "id": "0HxV9o6dbRUE",
    "outputId": "35464d43-d601-4b8f-81fd-6dbd400167f5",
    "colab": {
     "base_uri": "https://localhost:8080/"
    }
   },
   "source": [
    "%pip install iso3166"
   ],
   "execution_count": 1,
   "outputs": [
    {
     "name": "stdout",
     "output_type": "stream",
     "text": [
      "Requirement already satisfied: iso3166 in /Users/felixschwebel/opt/anaconda3/lib/python3.9/site-packages (2.1.1)\r\n",
      "Note: you may need to restart the kernel to use updated packages.\n"
     ]
    }
   ]
  },
  {
   "cell_type": "markdown",
   "metadata": {
    "id": "ErFDBihUi1jN"
   },
   "source": [
    "### Import Statements"
   ]
  },
  {
   "cell_type": "code",
   "metadata": {
    "_cell_guid": "b1076dfc-b9ad-4769-8c92-a6c4dae69d19",
    "_kg_hide-input": true,
    "_kg_hide-output": true,
    "_uuid": "8f2839f25d086af736a60e9eeb907d3b93b6e0e5",
    "execution": {
     "iopub.execute_input": "2020-10-20T21:34:02.101551Z",
     "iopub.status.busy": "2020-10-20T21:34:02.101085Z",
     "iopub.status.idle": "2020-10-20T21:34:03.726868Z",
     "shell.execute_reply": "2020-10-20T21:34:03.725783Z"
    },
    "papermill": {
     "duration": 1.665326,
     "end_time": "2020-10-20T21:34:03.726995",
     "exception": false,
     "start_time": "2020-10-20T21:34:02.061669",
     "status": "completed"
    },
    "tags": [],
    "id": "xdolY0-Sa-p1",
    "outputId": "7142dedb-82e9-457d-db44-cea4e121bdfe",
    "colab": {
     "base_uri": "https://localhost:8080/"
    }
   },
   "source": [
    "import numpy as np\n",
    "import pandas as pd\n",
    "import plotly.express as px\n",
    "import matplotlib.pyplot as plt\n",
    "import seaborn as sns\n",
    "\n",
    "from iso3166 import countries\n",
    "from datetime import datetime, timedelta"
   ],
   "execution_count": 2,
   "outputs": []
  },
  {
   "cell_type": "markdown",
   "metadata": {
    "id": "lovGPRgKxIgo"
   },
   "source": [
    "### Notebook Presentation"
   ]
  },
  {
   "cell_type": "code",
   "metadata": {
    "id": "DHEULCOjxIIm"
   },
   "source": [
    "pd.options.display.float_format = '{:,.2f}'.format"
   ],
   "execution_count": 3,
   "outputs": []
  },
  {
   "cell_type": "markdown",
   "metadata": {
    "papermill": {
     "duration": 0.034606,
     "end_time": "2020-10-20T21:34:03.798396",
     "exception": false,
     "start_time": "2020-10-20T21:34:03.763790",
     "status": "completed"
    },
    "tags": [],
    "id": "yaT3QbjEa-p4"
   },
   "source": [
    "### Load the Data"
   ]
  },
  {
   "cell_type": "code",
   "metadata": {
    "_cell_guid": "79c7e3d0-c299-4dcb-8224-4455121ee9b0",
    "_kg_hide-input": true,
    "_uuid": "d629ff2d2480ee46fbb7e2d37f6b5fab8052498a",
    "execution": {
     "iopub.execute_input": "2020-10-20T21:34:03.874195Z",
     "iopub.status.busy": "2020-10-20T21:34:03.873775Z",
     "iopub.status.idle": "2020-10-20T21:34:03.921919Z",
     "shell.execute_reply": "2020-10-20T21:34:03.921418Z"
    },
    "papermill": {
     "duration": 0.08876,
     "end_time": "2020-10-20T21:34:03.922028",
     "exception": false,
     "start_time": "2020-10-20T21:34:03.833268",
     "status": "completed"
    },
    "tags": [],
    "id": "0lDOu8aka-p4"
   },
   "source": [
    "df_data = pd.read_csv('mission_launches.csv')"
   ],
   "execution_count": 4,
   "outputs": []
  },
  {
   "cell_type": "markdown",
   "metadata": {
    "id": "jAnMiVcVjuKB"
   },
   "source": [
    "## Preliminary Data Exploration"
   ]
  },
  {
   "cell_type": "markdown",
   "source": [
    "Shape of the dataframe:"
   ],
   "metadata": {
    "collapsed": false
   }
  },
  {
   "cell_type": "code",
   "metadata": {
    "id": "0tIuYcYNlPFQ"
   },
   "source": [
    "shape = df_data.shape\n",
    "print(f\"rows: {shape[0]}\")\n",
    "print(f\"columns: {shape[1]}\")"
   ],
   "execution_count": 12,
   "outputs": [
    {
     "name": "stdout",
     "output_type": "stream",
     "text": [
      "rows: 4324\n",
      "columns: 9\n"
     ]
    }
   ]
  },
  {
   "cell_type": "markdown",
   "source": [
    "Columns of the dataframe:"
   ],
   "metadata": {
    "collapsed": false
   }
  },
  {
   "cell_type": "code",
   "metadata": {
    "id": "0dw2hd9UlPmP"
   },
   "source": [
    "df_data.info()"
   ],
   "execution_count": 13,
   "outputs": [
    {
     "name": "stdout",
     "output_type": "stream",
     "text": [
      "<class 'pandas.core.frame.DataFrame'>\n",
      "RangeIndex: 4324 entries, 0 to 4323\n",
      "Data columns (total 9 columns):\n",
      " #   Column          Non-Null Count  Dtype \n",
      "---  ------          --------------  ----- \n",
      " 0   Unnamed: 0.1    4324 non-null   int64 \n",
      " 1   Unnamed: 0      4324 non-null   int64 \n",
      " 2   Organisation    4324 non-null   object\n",
      " 3   Location        4324 non-null   object\n",
      " 4   Date            4324 non-null   object\n",
      " 5   Detail          4324 non-null   object\n",
      " 6   Rocket_Status   4324 non-null   object\n",
      " 7   Price           964 non-null    object\n",
      " 8   Mission_Status  4324 non-null   object\n",
      "dtypes: int64(2), object(7)\n",
      "memory usage: 304.2+ KB\n"
     ]
    }
   ]
  },
  {
   "cell_type": "markdown",
   "metadata": {
    "papermill": {
     "duration": 0.05406,
     "end_time": "2020-10-20T21:34:04.149973",
     "exception": false,
     "start_time": "2020-10-20T21:34:04.095913",
     "status": "completed"
    },
    "tags": [],
    "id": "KUN30y6ja-p9"
   },
   "source": [
    "## Data Cleaning - Check for Missing Values and Duplicates\n"
   ]
  },
  {
   "cell_type": "code",
   "metadata": {
    "id": "wWQvnJb0k2Ig"
   },
   "source": [
    "print(df_data.head())\n",
    "print(df_data.tail())"
   ],
   "execution_count": 23,
   "outputs": [
    {
     "name": "stdout",
     "output_type": "stream",
     "text": [
      "   Unnamed: 0.1  Unnamed: 0 Organisation  \\\n",
      "0             0           0       SpaceX   \n",
      "1             1           1         CASC   \n",
      "2             2           2       SpaceX   \n",
      "3             3           3    Roscosmos   \n",
      "4             4           4          ULA   \n",
      "\n",
      "                                            Location  \\\n",
      "0         LC-39A, Kennedy Space Center, Florida, USA   \n",
      "1  Site 9401 (SLS-2), Jiuquan Satellite Launch Ce...   \n",
      "2                      Pad A, Boca Chica, Texas, USA   \n",
      "3       Site 200/39, Baikonur Cosmodrome, Kazakhstan   \n",
      "4           SLC-41, Cape Canaveral AFS, Florida, USA   \n",
      "\n",
      "                         Date                                        Detail  \\\n",
      "0  Fri Aug 07, 2020 05:12 UTC  Falcon 9 Block 5 | Starlink V1 L9 & BlackSky   \n",
      "1  Thu Aug 06, 2020 04:01 UTC           Long March 2D | Gaofen-9 04 & Q-SAT   \n",
      "2  Tue Aug 04, 2020 23:57 UTC            Starship Prototype | 150 Meter Hop   \n",
      "3  Thu Jul 30, 2020 21:25 UTC  Proton-M/Briz-M | Ekspress-80 & Ekspress-103   \n",
      "4  Thu Jul 30, 2020 11:50 UTC                    Atlas V 541 | Perseverance   \n",
      "\n",
      "  Rocket_Status  Price Mission_Status  \n",
      "0  StatusActive   50.0        Success  \n",
      "1  StatusActive  29.75        Success  \n",
      "2  StatusActive    NaN        Success  \n",
      "3  StatusActive   65.0        Success  \n",
      "4  StatusActive  145.0        Success  \n",
      "      Unnamed: 0.1  Unnamed: 0 Organisation  \\\n",
      "4319          4319        4319      US Navy   \n",
      "4320          4320        4320         AMBA   \n",
      "4321          4321        4321      US Navy   \n",
      "4322          4322        4322    RVSN USSR   \n",
      "4323          4323        4323    RVSN USSR   \n",
      "\n",
      "                                       Location                        Date  \\\n",
      "4319   LC-18A, Cape Canaveral AFS, Florida, USA  Wed Feb 05, 1958 07:33 UTC   \n",
      "4320   LC-26A, Cape Canaveral AFS, Florida, USA  Sat Feb 01, 1958 03:48 UTC   \n",
      "4321   LC-18A, Cape Canaveral AFS, Florida, USA  Fri Dec 06, 1957 16:44 UTC   \n",
      "4322  Site 1/5, Baikonur Cosmodrome, Kazakhstan  Sun Nov 03, 1957 02:30 UTC   \n",
      "4323  Site 1/5, Baikonur Cosmodrome, Kazakhstan  Fri Oct 04, 1957 19:28 UTC   \n",
      "\n",
      "                          Detail  Rocket_Status Price Mission_Status  \n",
      "4319   Vanguard | Vanguard TV3BU  StatusRetired   NaN        Failure  \n",
      "4320         Juno I | Explorer 1  StatusRetired   NaN        Success  \n",
      "4321     Vanguard | Vanguard TV3  StatusRetired   NaN        Failure  \n",
      "4322  Sputnik 8K71PS | Sputnik-2  StatusRetired   NaN        Success  \n",
      "4323  Sputnik 8K71PS | Sputnik-1  StatusRetired   NaN        Success  \n"
     ]
    }
   ]
  },
  {
   "cell_type": "code",
   "metadata": {
    "id": "SfxVooCYk2As"
   },
   "source": [
    "print(f\"mssing values: {df_data.isna().values.any()}\")\n",
    "print(f\"duplicates: {df_data.duplicated().values.any()}\")"
   ],
   "execution_count": 16,
   "outputs": [
    {
     "name": "stdout",
     "output_type": "stream",
     "text": [
      "missing values: True\n",
      "duplicates: False\n"
     ]
    }
   ]
  },
  {
   "cell_type": "code",
   "execution_count": 22,
   "outputs": [
    {
     "name": "stdout",
     "output_type": "stream",
     "text": [
      "number of missing values: Unnamed: 0.1  Unnamed: 0  Organisation  Location  Date   Detail  Rocket_Status  Price  Mission_Status\n",
      "False         False       False         False     False  False   False          True   False             3360\n",
      "                                                                                False  False              964\n",
      "dtype: int64\n"
     ]
    }
   ],
   "source": [
    "print(f\"number of missing values: {df_data.isna().value_counts()}\")"
   ],
   "metadata": {
    "collapsed": false
   }
  },
  {
   "cell_type": "markdown",
   "source": [
    "Cleaned dataframe:"
   ],
   "metadata": {
    "collapsed": false
   }
  },
  {
   "cell_type": "code",
   "execution_count": 29,
   "outputs": [
    {
     "name": "stdout",
     "output_type": "stream",
     "text": [
      "   Unnamed: 0.1  Unnamed: 0 Organisation  \\\n",
      "0             0           0       SpaceX   \n",
      "1             1           1         CASC   \n",
      "3             3           3    Roscosmos   \n",
      "4             4           4          ULA   \n",
      "5             5           5         CASC   \n",
      "\n",
      "                                            Location  \\\n",
      "0         LC-39A, Kennedy Space Center, Florida, USA   \n",
      "1  Site 9401 (SLS-2), Jiuquan Satellite Launch Ce...   \n",
      "3       Site 200/39, Baikonur Cosmodrome, Kazakhstan   \n",
      "4           SLC-41, Cape Canaveral AFS, Florida, USA   \n",
      "5       LC-9, Taiyuan Satellite Launch Center, China   \n",
      "\n",
      "                         Date  \\\n",
      "0  Fri Aug 07, 2020 05:12 UTC   \n",
      "1  Thu Aug 06, 2020 04:01 UTC   \n",
      "3  Thu Jul 30, 2020 21:25 UTC   \n",
      "4  Thu Jul 30, 2020 11:50 UTC   \n",
      "5  Sat Jul 25, 2020 03:13 UTC   \n",
      "\n",
      "                                              Detail Rocket_Status  Price  \\\n",
      "0       Falcon 9 Block 5 | Starlink V1 L9 & BlackSky  StatusActive   50.0   \n",
      "1                Long March 2D | Gaofen-9 04 & Q-SAT  StatusActive  29.75   \n",
      "3       Proton-M/Briz-M | Ekspress-80 & Ekspress-103  StatusActive   65.0   \n",
      "4                         Atlas V 541 | Perseverance  StatusActive  145.0   \n",
      "5  Long March 4B | Ziyuan-3 03, Apocalypse-10 & N...  StatusActive  64.68   \n",
      "\n",
      "  Mission_Status  \n",
      "0        Success  \n",
      "1        Success  \n",
      "3        Success  \n",
      "4        Success  \n",
      "5        Success  \n"
     ]
    }
   ],
   "source": [
    "cleaned_df = df_data.dropna()\n",
    "print(cleaned_df.head())"
   ],
   "metadata": {
    "collapsed": false
   }
  },
  {
   "cell_type": "markdown",
   "source": [
    "*All the rows with NaN-values have been dropped. There were only NaN values in the price column.*"
   ],
   "metadata": {
    "collapsed": false
   }
  },
  {
   "cell_type": "markdown",
   "metadata": {
    "papermill": {
     "duration": 0.036712,
     "end_time": "2020-10-20T21:34:05.227032",
     "exception": false,
     "start_time": "2020-10-20T21:34:05.190320",
     "status": "completed"
    },
    "tags": [],
    "id": "QHon_T5sa-p_"
   },
   "source": [
    "## Descriptive Statistics"
   ]
  },
  {
   "cell_type": "code",
   "metadata": {
    "id": "Fh1-libjkJIK"
   },
   "source": [],
   "execution_count": null,
   "outputs": []
  },
  {
   "cell_type": "code",
   "metadata": {
    "id": "dGZa5HdbkJBT"
   },
   "source": [],
   "execution_count": null,
   "outputs": []
  },
  {
   "cell_type": "markdown",
   "metadata": {
    "id": "cgCjcpeUkKPW"
   },
   "source": [
    "# Number of Launches per Company\n",
    "\n",
    "Chart that shows the number of space mission launches by organisation."
   ]
  },
  {
   "cell_type": "code",
   "metadata": {
    "id": "rxvcIrtskxYB"
   },
   "source": [],
   "execution_count": null,
   "outputs": []
  },
  {
   "cell_type": "code",
   "metadata": {
    "id": "qgneHUbWkw5v"
   },
   "source": [],
   "execution_count": null,
   "outputs": []
  },
  {
   "cell_type": "markdown",
   "metadata": {
    "id": "7Gwteht2kR_h"
   },
   "source": [
    "# Number of Active versus Retired Rockets\n",
    "\n",
    "How many rockets are active compared to those that are decomissioned? "
   ]
  },
  {
   "cell_type": "code",
   "metadata": {
    "id": "SxmOWS9cmTq6"
   },
   "source": [],
   "execution_count": null,
   "outputs": []
  },
  {
   "cell_type": "code",
   "metadata": {
    "id": "ydj0-OZ6mToH"
   },
   "source": [],
   "execution_count": null,
   "outputs": []
  },
  {
   "cell_type": "markdown",
   "metadata": {
    "id": "y9WtP5xWkYkp"
   },
   "source": [
    "# Distribution of Mission Status\n",
    "\n",
    "How many missions were successful?\n",
    "How many missions failed?"
   ]
  },
  {
   "cell_type": "code",
   "metadata": {
    "id": "83kY1alqmUhb"
   },
   "source": [],
   "execution_count": null,
   "outputs": []
  },
  {
   "cell_type": "code",
   "metadata": {
    "id": "bdmXcaopmUeZ"
   },
   "source": [],
   "execution_count": null,
   "outputs": []
  },
  {
   "cell_type": "markdown",
   "metadata": {
    "papermill": {
     "duration": 0.03854,
     "end_time": "2020-10-20T21:34:05.968626",
     "exception": false,
     "start_time": "2020-10-20T21:34:05.930086",
     "status": "completed"
    },
    "tags": [],
    "id": "jgTCihuoa-qH"
   },
   "source": [
    "# How Expensive are the Launches? \n",
    "\n",
    "Histogram and visualise the distribution (price column in USD millions)."
   ]
  },
  {
   "cell_type": "code",
   "metadata": {
    "id": "PLOMhzZFnSCO"
   },
   "source": [],
   "execution_count": null,
   "outputs": []
  },
  {
   "cell_type": "code",
   "metadata": {
    "id": "ru0IcY4nnSFU"
   },
   "source": [],
   "execution_count": null,
   "outputs": []
  },
  {
   "cell_type": "markdown",
   "metadata": {
    "id": "QiNtigQDne3E"
   },
   "source": [
    "# Choropleth Map to Show the Number of Launches by Country"
   ]
  },
  {
   "cell_type": "code",
   "metadata": {
    "id": "Y46-4GHrozhF"
   },
   "source": [],
   "execution_count": null,
   "outputs": []
  },
  {
   "cell_type": "code",
   "metadata": {
    "id": "ESGRWiX6ozZG"
   },
   "source": [],
   "execution_count": null,
   "outputs": []
  },
  {
   "cell_type": "markdown",
   "metadata": {
    "id": "F3pwYSUlo_AK"
   },
   "source": [
    "# Choropleth Map to Show the Number of Failures by Country\n"
   ]
  },
  {
   "cell_type": "code",
   "metadata": {
    "id": "8BH4ICtro9I0"
   },
   "source": [],
   "execution_count": null,
   "outputs": []
  },
  {
   "cell_type": "code",
   "metadata": {
    "id": "sfw-q7Obo9GM"
   },
   "source": [],
   "execution_count": null,
   "outputs": []
  },
  {
   "cell_type": "markdown",
   "metadata": {
    "papermill": {
     "duration": 0.039343,
     "end_time": "2020-10-20T21:34:06.591694",
     "exception": false,
     "start_time": "2020-10-20T21:34:06.552351",
     "status": "completed"
    },
    "tags": [],
    "id": "9LqcqSrKa-qN"
   },
   "source": [
    "# Plotly Sunburst Chart of the countries, organisations, and mission status."
   ]
  },
  {
   "cell_type": "code",
   "metadata": {
    "id": "MwUfpoByo3_J"
   },
   "source": [],
   "execution_count": null,
   "outputs": []
  },
  {
   "cell_type": "code",
   "metadata": {
    "id": "-ZwZkx1ro4X9"
   },
   "source": [],
   "execution_count": null,
   "outputs": []
  },
  {
   "cell_type": "code",
   "metadata": {
    "id": "VfTGp2hLo4Ok"
   },
   "source": [],
   "execution_count": null,
   "outputs": []
  },
  {
   "cell_type": "markdown",
   "metadata": {
    "papermill": {
     "duration": 0.062712,
     "end_time": "2020-10-20T21:34:07.951200",
     "exception": false,
     "start_time": "2020-10-20T21:34:07.888488",
     "status": "completed"
    },
    "tags": [],
    "id": "70pG1BCZa-qY"
   },
   "source": [
    "# Total Amount of Money Spent by Organisation on Space Missions"
   ]
  },
  {
   "cell_type": "code",
   "metadata": {
    "id": "IaJYxwEVpKHy"
   },
   "source": [],
   "execution_count": null,
   "outputs": []
  },
  {
   "cell_type": "code",
   "metadata": {
    "id": "orIFf-appPDL"
   },
   "source": [],
   "execution_count": null,
   "outputs": []
  },
  {
   "cell_type": "code",
   "metadata": {
    "id": "86OMPfpEpO7R"
   },
   "source": [],
   "execution_count": null,
   "outputs": []
  },
  {
   "cell_type": "markdown",
   "metadata": {
    "id": "DpsWkPxzpPXs"
   },
   "source": [
    "# Amount of Money Spent by Organisation per Launch"
   ]
  },
  {
   "cell_type": "code",
   "metadata": {
    "id": "opYJ6GiRpTk5"
   },
   "source": [],
   "execution_count": null,
   "outputs": []
  },
  {
   "cell_type": "code",
   "metadata": {
    "id": "VEkHzAk2pTvj"
   },
   "source": [],
   "execution_count": null,
   "outputs": []
  },
  {
   "cell_type": "code",
   "metadata": {
    "id": "R5rFf501pKXD"
   },
   "source": [],
   "execution_count": null,
   "outputs": []
  },
  {
   "cell_type": "markdown",
   "metadata": {
    "papermill": {
     "duration": 0.042662,
     "end_time": "2020-10-20T21:34:09.943196",
     "exception": false,
     "start_time": "2020-10-20T21:34:09.900534",
     "status": "completed"
    },
    "tags": [],
    "id": "yRa1BbPoa-qf"
   },
   "source": [
    "# Number of Launches per Year"
   ]
  },
  {
   "cell_type": "code",
   "metadata": {
    "id": "_9FohVh3pcAJ"
   },
   "source": [],
   "execution_count": null,
   "outputs": []
  },
  {
   "cell_type": "code",
   "metadata": {
    "id": "b2pggcZBpb4x"
   },
   "source": [],
   "execution_count": null,
   "outputs": []
  },
  {
   "cell_type": "markdown",
   "metadata": {
    "id": "NomJVLi3tIaM"
   },
   "source": [
    "Number of Launches Month-on-Month until the Present\n",
    "\n",
    "Which month has seen the highest number of launches in all time?"
   ]
  },
  {
   "cell_type": "code",
   "metadata": {
    "id": "H1N2aBs5tH9z"
   },
   "source": [],
   "execution_count": null,
   "outputs": []
  },
  {
   "cell_type": "code",
   "metadata": {
    "id": "pfw0aX1lpdRv"
   },
   "source": [],
   "execution_count": null,
   "outputs": []
  },
  {
   "cell_type": "markdown",
   "metadata": {
    "papermill": {
     "duration": 0.044409,
     "end_time": "2020-10-20T21:34:10.162592",
     "exception": false,
     "start_time": "2020-10-20T21:34:10.118183",
     "status": "completed"
    },
    "tags": [],
    "id": "t-avMIZoa-qh"
   },
   "source": [
    "# Launches per Month: Which months are most popular and least popular for launches?\n",
    "\n",
    "Some months have better weather than others. Which time of year seems to be best for space missions?"
   ]
  },
  {
   "cell_type": "code",
   "metadata": {
    "id": "zmtp5uBHppFG"
   },
   "source": [],
   "execution_count": null,
   "outputs": []
  },
  {
   "cell_type": "code",
   "metadata": {
    "id": "fnk2m_cpppJo"
   },
   "source": [],
   "execution_count": null,
   "outputs": []
  },
  {
   "cell_type": "markdown",
   "metadata": {
    "papermill": {
     "duration": 0.067915,
     "end_time": "2020-10-20T21:34:11.122539",
     "exception": false,
     "start_time": "2020-10-20T21:34:11.054624",
     "status": "completed"
    },
    "tags": [],
    "id": "dPQ_N_sfa-qo"
   },
   "source": [
    "# How has the Launch Price varied Over Time? \n",
    "\n",
    "Line chart that shows the average price of rocket launches over time."
   ]
  },
  {
   "cell_type": "code",
   "metadata": {
    "id": "hFc-2M5-qCrv"
   },
   "source": [],
   "execution_count": null,
   "outputs": []
  },
  {
   "cell_type": "code",
   "metadata": {
    "id": "ggYFiAsEqC6J"
   },
   "source": [],
   "execution_count": null,
   "outputs": []
  },
  {
   "cell_type": "markdown",
   "metadata": {
    "papermill": {
     "duration": 0.047152,
     "end_time": "2020-10-20T21:34:11.681371",
     "exception": false,
     "start_time": "2020-10-20T21:34:11.634219",
     "status": "completed"
    },
    "tags": [],
    "id": "8OYrWyiOa-qs"
   },
   "source": [
    "# Number of Launches over Time by the Top 10 Organisations.\n",
    "\n",
    "How has the dominance of launches changed over time between the different players? "
   ]
  },
  {
   "cell_type": "code",
   "metadata": {
    "id": "RcsrPPpAqVFj"
   },
   "source": [],
   "execution_count": null,
   "outputs": []
  },
  {
   "cell_type": "code",
   "metadata": {
    "id": "1IgfafiyqWEe"
   },
   "source": [],
   "execution_count": null,
   "outputs": []
  },
  {
   "cell_type": "code",
   "metadata": {
    "id": "akCDKT8CqVjG"
   },
   "source": [],
   "execution_count": null,
   "outputs": []
  },
  {
   "cell_type": "markdown",
   "metadata": {
    "papermill": {
     "duration": 0.052399,
     "end_time": "2020-10-20T21:34:13.756781",
     "exception": false,
     "start_time": "2020-10-20T21:34:13.704382",
     "status": "completed"
    },
    "tags": [],
    "id": "6Cm8_ch6a-q7"
   },
   "source": [
    "# Cold War Space Race: USA vs USSR\n",
    "\n",
    "The cold war lasted from the start of the dataset up until 1991. "
   ]
  },
  {
   "cell_type": "code",
   "metadata": {
    "id": "AcE_U8csrICL"
   },
   "source": [],
   "execution_count": null,
   "outputs": []
  },
  {
   "cell_type": "code",
   "metadata": {
    "id": "cOe_t4OmrHr9"
   },
   "source": [],
   "execution_count": null,
   "outputs": []
  },
  {
   "cell_type": "markdown",
   "metadata": {
    "papermill": {
     "duration": 0.054318,
     "end_time": "2020-10-20T21:34:14.089604",
     "exception": false,
     "start_time": "2020-10-20T21:34:14.035286",
     "status": "completed"
    },
    "tags": [],
    "id": "Os-3A5vLa-q9"
   },
   "source": [
    "## Plotly Pie Chart comparing the total number of launches of the USSR and the USA"
   ]
  },
  {
   "cell_type": "code",
   "metadata": {
    "id": "1irc6_W9rD59"
   },
   "source": [],
   "execution_count": null,
   "outputs": []
  },
  {
   "cell_type": "code",
   "metadata": {
    "id": "OhhuLQycrEE-"
   },
   "source": [],
   "execution_count": null,
   "outputs": []
  },
  {
   "cell_type": "markdown",
   "metadata": {
    "papermill": {
     "duration": 0.052921,
     "end_time": "2020-10-20T21:34:14.340085",
     "exception": false,
     "start_time": "2020-10-20T21:34:14.287164",
     "status": "completed"
    },
    "tags": [],
    "id": "0C29Zz4xa-rA"
   },
   "source": [
    "## Chart that Shows the Total Number of Launches Year-On-Year by the Two Superpowers"
   ]
  },
  {
   "cell_type": "code",
   "metadata": {
    "id": "9ISKvOiCrS73"
   },
   "source": [],
   "execution_count": null,
   "outputs": []
  },
  {
   "cell_type": "code",
   "metadata": {
    "id": "oCc7VTzGrTK-"
   },
   "source": [],
   "execution_count": null,
   "outputs": []
  },
  {
   "cell_type": "markdown",
   "metadata": {
    "papermill": {
     "duration": 0.079311,
     "end_time": "2020-10-20T21:34:14.933058",
     "exception": false,
     "start_time": "2020-10-20T21:34:14.853747",
     "status": "completed"
    },
    "tags": [],
    "id": "eWv4iZmra-rE"
   },
   "source": [
    "## Total Number of Mission Failures Year on Year."
   ]
  },
  {
   "cell_type": "code",
   "metadata": {
    "id": "I-Zss5-Mre-4"
   },
   "source": [],
   "execution_count": null,
   "outputs": []
  },
  {
   "cell_type": "code",
   "metadata": {
    "id": "7Ps9Iq_crfYl"
   },
   "source": [],
   "execution_count": null,
   "outputs": []
  },
  {
   "cell_type": "markdown",
   "metadata": {
    "id": "XNp-NkrJriEF"
   },
   "source": [
    "## Percentage of Failures over Time\n",
    "\n",
    "Did failures go up or down over time? Did the countries get better at minimising risk and improving their chances of success over time? "
   ]
  },
  {
   "cell_type": "code",
   "metadata": {
    "id": "Kj3-zsI0rhOS"
   },
   "source": [],
   "execution_count": null,
   "outputs": []
  },
  {
   "cell_type": "code",
   "metadata": {
    "id": "nxnnzx89rwvH"
   },
   "source": [],
   "execution_count": null,
   "outputs": []
  },
  {
   "cell_type": "code",
   "metadata": {
    "id": "_TPWaaJ5r1Fz"
   },
   "source": [],
   "execution_count": null,
   "outputs": []
  },
  {
   "cell_type": "markdown",
   "metadata": {
    "id": "S5aOC7bGr2OX"
   },
   "source": [
    "# Which Country was in the Lead in terms of Total Number of Launches up to and including 2020?\n",
    "\n",
    "Do the results change if we only look at the number of successful launches? "
   ]
  },
  {
   "cell_type": "code",
   "metadata": {
    "id": "_h0grIXKsOz_"
   },
   "source": [],
   "execution_count": null,
   "outputs": []
  },
  {
   "cell_type": "code",
   "metadata": {
    "id": "zgVysedmsOp4"
   },
   "source": [],
   "execution_count": null,
   "outputs": []
  },
  {
   "cell_type": "markdown",
   "metadata": {
    "id": "jQcqBfJ8serG"
   },
   "source": [
    "# Year-on-Year Chart Showing the Organisation Doing the Most Number of Launches\n",
    "\n",
    "Which organisation was dominant in the 1970s and 1980s? Which organisation was dominant in 2018, 2019 and 2020? "
   ]
  },
  {
   "cell_type": "code",
   "metadata": {
    "id": "jc9ImQEWsztG"
   },
   "source": [],
   "execution_count": null,
   "outputs": []
  },
  {
   "cell_type": "code",
   "metadata": {
    "id": "r5frxzwlsz5W"
   },
   "source": [],
   "execution_count": null,
   "outputs": []
  },
  {
   "cell_type": "code",
   "metadata": {
    "papermill": {
     "duration": 0.092403,
     "end_time": "2020-10-20T21:34:26.709168",
     "exception": false,
     "start_time": "2020-10-20T21:34:26.616765",
     "status": "completed"
    },
    "tags": [],
    "id": "8vHKpuc5a-rc"
   },
   "source": [],
   "execution_count": null,
   "outputs": []
  }
 ]
}
